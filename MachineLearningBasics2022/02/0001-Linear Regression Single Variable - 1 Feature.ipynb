{
 "cells": [
  {
   "cell_type": "markdown",
   "id": "709d0a3e",
   "metadata": {
    "scrolled": true
   },
   "source": [
    "### Machine learning tutorial - Linear Regression with 1 variable(feature) "
   ]
  },
  {
   "cell_type": "code",
   "execution_count": 3,
   "id": "74d5af22",
   "metadata": {},
   "outputs": [],
   "source": [
    "import pandas as pd\n",
    "import numpy as np\n",
    "import matplotlib.pyplot as plt\n",
    "from sklearn import linear_model"
   ]
  },
  {
   "cell_type": "code",
   "execution_count": 4,
   "id": "fb84dfcf",
   "metadata": {},
   "outputs": [
    {
     "data": {
      "text/html": [
       "<div>\n",
       "<style scoped>\n",
       "    .dataframe tbody tr th:only-of-type {\n",
       "        vertical-align: middle;\n",
       "    }\n",
       "\n",
       "    .dataframe tbody tr th {\n",
       "        vertical-align: top;\n",
       "    }\n",
       "\n",
       "    .dataframe thead th {\n",
       "        text-align: right;\n",
       "    }\n",
       "</style>\n",
       "<table border=\"1\" class=\"dataframe\">\n",
       "  <thead>\n",
       "    <tr style=\"text-align: right;\">\n",
       "      <th></th>\n",
       "      <th>area</th>\n",
       "      <th>price</th>\n",
       "    </tr>\n",
       "  </thead>\n",
       "  <tbody>\n",
       "    <tr>\n",
       "      <th>0</th>\n",
       "      <td>2700</td>\n",
       "      <td>560000</td>\n",
       "    </tr>\n",
       "    <tr>\n",
       "      <th>1</th>\n",
       "      <td>2800</td>\n",
       "      <td>570000</td>\n",
       "    </tr>\n",
       "    <tr>\n",
       "      <th>2</th>\n",
       "      <td>3000</td>\n",
       "      <td>600000</td>\n",
       "    </tr>\n",
       "    <tr>\n",
       "      <th>3</th>\n",
       "      <td>3100</td>\n",
       "      <td>610000</td>\n",
       "    </tr>\n",
       "    <tr>\n",
       "      <th>4</th>\n",
       "      <td>3200</td>\n",
       "      <td>635000</td>\n",
       "    </tr>\n",
       "    <tr>\n",
       "      <th>5</th>\n",
       "      <td>3400</td>\n",
       "      <td>700000</td>\n",
       "    </tr>\n",
       "    <tr>\n",
       "      <th>6</th>\n",
       "      <td>3500</td>\n",
       "      <td>730000</td>\n",
       "    </tr>\n",
       "    <tr>\n",
       "      <th>7</th>\n",
       "      <td>3700</td>\n",
       "      <td>800000</td>\n",
       "    </tr>\n",
       "    <tr>\n",
       "      <th>8</th>\n",
       "      <td>3800</td>\n",
       "      <td>812000</td>\n",
       "    </tr>\n",
       "    <tr>\n",
       "      <th>9</th>\n",
       "      <td>4100</td>\n",
       "      <td>901000</td>\n",
       "    </tr>\n",
       "  </tbody>\n",
       "</table>\n",
       "</div>"
      ],
      "text/plain": [
       "   area   price\n",
       "0  2700  560000\n",
       "1  2800  570000\n",
       "2  3000  600000\n",
       "3  3100  610000\n",
       "4  3200  635000\n",
       "5  3400  700000\n",
       "6  3500  730000\n",
       "7  3700  800000\n",
       "8  3800  812000\n",
       "9  4100  901000"
      ]
     },
     "execution_count": 4,
     "metadata": {},
     "output_type": "execute_result"
    }
   ],
   "source": [
    "data_frame = pd.read_csv(\"HousePrice.csv\")\n",
    "data_frame"
   ]
  },
  {
   "cell_type": "code",
   "execution_count": 5,
   "id": "22c14d94",
   "metadata": {},
   "outputs": [
    {
     "data": {
      "text/plain": [
       "0    560000\n",
       "1    570000\n",
       "2    600000\n",
       "3    610000\n",
       "4    635000\n",
       "5    700000\n",
       "6    730000\n",
       "7    800000\n",
       "8    812000\n",
       "9    901000\n",
       "Name: price, dtype: int64"
      ]
     },
     "execution_count": 5,
     "metadata": {},
     "output_type": "execute_result"
    }
   ],
   "source": [
    "#This is input(feature)\n",
    "data_frame['area']\n",
    "#This is output(label)\n",
    "data_frame['price']"
   ]
  },
  {
   "cell_type": "code",
   "execution_count": 6,
   "id": "ce1a6c6c",
   "metadata": {},
   "outputs": [
    {
     "data": {
      "text/plain": [
       "<matplotlib.collections.PathCollection at 0x28be26d7cd0>"
      ]
     },
     "execution_count": 6,
     "metadata": {},
     "output_type": "execute_result"
    },
    {
     "data": {
      "image/png": "[encoded data removed]",
      "text/plain": [
       "<Figure size 432x288 with 1 Axes>"
      ]
     },
     "metadata": {
      "needs_background": "light"
     },
     "output_type": "display_data"
    }
   ],
   "source": [
    "plt.scatter(data_frame['area'], data_frame['price'], color='black', marker='+')"
   ]
  },
  {
   "cell_type": "code",
   "execution_count": 19,
   "id": "e4ac5a6e",
   "metadata": {},
   "outputs": [
    {
     "data": {
      "text/plain": [
       "LinearRegression()"
      ]
     },
     "execution_count": 19,
     "metadata": {},
     "output_type": "execute_result"
    }
   ],
   "source": [
    "linear_regression = linear_model.LinearRegression()\n",
    "#train the model\n",
    "linear_regression.fit(data_frame[['area']], data_frame['price'])"
   ]
  },
  {
   "cell_type": "code",
   "execution_count": 20,
   "id": "5ae4faf0",
   "metadata": {},
   "outputs": [
    {
     "name": "stderr",
     "output_type": "stream",
     "text": [
      "C:\\Users\\sunli\\.conda\\envs\\machineLearningTutorial\\lib\\site-packages\\sklearn\\base.py:450: UserWarning: X does not have valid feature names, but LinearRegression was fitted with feature names\n",
      "  warnings.warn(\n"
     ]
    },
    {
     "data": {
      "text/plain": [
       "array([786010.320478])"
      ]
     },
     "execution_count": 20,
     "metadata": {},
     "output_type": "execute_result"
    }
   ],
   "source": [
    "linear_regression.predict([[3700]]) "
   ]
  },
  {
   "cell_type": "code",
   "execution_count": 22,
   "id": "209026ad",
   "metadata": {},
   "outputs": [
    {
     "data": {
      "text/plain": [
       "array([254.62248778])"
      ]
     },
     "execution_count": 22,
     "metadata": {},
     "output_type": "execute_result"
    }
   ],
   "source": [
    "m = linear_regression.coef_\n",
    "m"
   ]
  },
  {
   "cell_type": "code",
   "execution_count": 23,
   "id": "15ffdb10",
   "metadata": {},
   "outputs": [
    {
     "data": {
      "text/plain": [
       "-156092.8843020096"
      ]
     },
     "execution_count": 23,
     "metadata": {},
     "output_type": "execute_result"
    }
   ],
   "source": [
    "b = linear_regression.intercept_\n",
    "b"
   ]
  },
  {
   "cell_type": "code",
   "execution_count": 25,
   "id": "3047afec",
   "metadata": {},
   "outputs": [
    {
     "data": {
      "text/plain": [
       "array([786010.320478])"
      ]
     },
     "execution_count": 25,
     "metadata": {},
     "output_type": "execute_result"
    }
   ],
   "source": [
    "y_predict = m * 3700 + b\n",
    "y_predict"
   ]
  },
  {
   "cell_type": "code",
   "execution_count": 33,
   "id": "34f79951",
   "metadata": {},
   "outputs": [
    {
     "data": {
      "text/plain": [
       "[<matplotlib.lines.Line2D at 0x28be48059d0>]"
      ]
     },
     "execution_count": 33,
     "metadata": {},
     "output_type": "execute_result"
    },
    {
     "data": {
      "image/png": "[encoded data removed]",
      "text/plain": [
       "<Figure size 432x288 with 1 Axes>"
      ]
     },
     "metadata": {
      "needs_background": "light"
     },
     "output_type": "display_data"
    }
   ],
   "source": [
    "plt.xlabel(\"house's area\", fontsize=20)\n",
    "plt.ylabel(\"price\", fontsize=20)\n",
    "plt.scatter(data_frame['area'], data_frame['price'], color='green', marker='+')\n",
    "plt.plot(data_frame['area'], m * data_frame['area'] + b, color='red')"
   ]
  },
  {
   "cell_type": "markdown",
   "id": "44f2a5cb",
   "metadata": {},
   "source": [
    "#### Example 2 Chirps per Minute vs Temperature "
   ]
  },
  {
   "cell_type": "code",
   "execution_count": 42,
   "id": "4db0cfda",
   "metadata": {},
   "outputs": [
    {
     "data": {
      "text/plain": [
       "Index(['Cricket chirps per Minute ', 'Temperature'], dtype='object')"
      ]
     },
     "execution_count": 42,
     "metadata": {},
     "output_type": "execute_result"
    }
   ],
   "source": [
    "data_frame2 = pd.read_csv(\"ChirpsPerMinute.csv\")\n",
    "data_frame2\n",
    "data_frame2.columns"
   ]
  },
  {
   "cell_type": "code",
   "execution_count": 48,
   "id": "ffdc84d3",
   "metadata": {},
   "outputs": [
    {
     "data": {
      "text/plain": [
       "LinearRegression()"
      ]
     },
     "execution_count": 48,
     "metadata": {},
     "output_type": "execute_result"
    }
   ],
   "source": [
    "linear_regression2 = linear_model.LinearRegression()\n",
    "#train the model\n",
    "linear_regression2.fit(data_frame2[['Cricket chirps per Minute ']], data_frame2['Temperature'])"
   ]
  },
  {
   "cell_type": "code",
   "execution_count": 51,
   "id": "4805985b",
   "metadata": {},
   "outputs": [
    {
     "data": {
      "text/plain": [
       "<matplotlib.collections.PathCollection at 0x28be8f710a0>"
      ]
     },
     "execution_count": 51,
     "metadata": {},
     "output_type": "execute_result"
    },
    {
     "data": {
      "image/png": "[encoded data removed]",
      "text/plain": [
       "<Figure size 432x288 with 1 Axes>"
      ]
     },
     "metadata": {
      "needs_background": "light"
     },
     "output_type": "display_data"
    }
   ],
   "source": [
    "plt.xlabel(\"Cricket chirps / Minute\", fontsize=20)\n",
    "plt.ylabel(\"Temperature/C\", fontsize=20)\n",
    "plt.scatter(data_frame2['Cricket chirps per Minute '], data_frame2['Temperature'], color='green')"
   ]
  },
  {
   "cell_type": "code",
   "execution_count": 52,
   "id": "70eadd3b",
   "metadata": {},
   "outputs": [
    {
     "name": "stderr",
     "output_type": "stream",
     "text": [
      "C:\\Users\\sunli\\.conda\\envs\\machineLearningTutorial\\lib\\site-packages\\sklearn\\base.py:450: UserWarning: X does not have valid feature names, but LinearRegression was fitted with feature names\n",
      "  warnings.warn(\n"
     ]
    },
    {
     "data": {
      "text/plain": [
       "array([14.63482284])"
      ]
     },
     "execution_count": 52,
     "metadata": {},
     "output_type": "execute_result"
    }
   ],
   "source": [
    "linear_regression2.predict([[70]]) "
   ]
  },
  {
   "cell_type": "code",
   "execution_count": 53,
   "id": "fe73763f",
   "metadata": {},
   "outputs": [
    {
     "data": {
      "text/plain": [
       "array([0.19551819])"
      ]
     },
     "execution_count": 53,
     "metadata": {},
     "output_type": "execute_result"
    }
   ],
   "source": [
    "m2 = linear_regression2.coef_\n",
    "m2"
   ]
  },
  {
   "cell_type": "code",
   "execution_count": 54,
   "id": "c86006ca",
   "metadata": {},
   "outputs": [
    {
     "data": {
      "text/plain": [
       "0.9485497479140577"
      ]
     },
     "execution_count": 54,
     "metadata": {},
     "output_type": "execute_result"
    }
   ],
   "source": [
    "b2 = linear_regression2.intercept_\n",
    "b2"
   ]
  },
  {
   "cell_type": "code",
   "execution_count": 56,
   "id": "57a55368",
   "metadata": {},
   "outputs": [
    {
     "data": {
      "text/plain": [
       "array([14.63482284])"
      ]
     },
     "execution_count": 56,
     "metadata": {},
     "output_type": "execute_result"
    }
   ],
   "source": [
    "y_predict2 = m2 * 70 + b2\n",
    "y_predict2"
   ]
  },
  {
   "cell_type": "code",
   "execution_count": 62,
   "id": "7a77b117",
   "metadata": {},
   "outputs": [
    {
     "data": {
      "text/plain": [
       "[<matplotlib.lines.Line2D at 0x28be901e700>]"
      ]
     },
     "execution_count": 62,
     "metadata": {},
     "output_type": "execute_result"
    },
    {
     "data": {
      "image/png": "[encoded data removed]",
      "text/plain": [
       "<Figure size 432x288 with 1 Axes>"
      ]
     },
     "metadata": {
      "needs_background": "light"
     },
     "output_type": "display_data"
    }
   ],
   "source": [
    "plt.xlabel(\"Cricket chirps / Minute\", fontsize=20)\n",
    "plt.ylabel(\"Temperature/C\", fontsize=20)\n",
    "x2 = data_frame2['Cricket chirps per Minute ']\n",
    "plt.scatter(data_frame2['Cricket chirps per Minute '], data_frame2['Temperature'], color='green')\n",
    "plt.plot(x2, m2 * x2 + b2, color='red')"
   ]
  },
  {
   "cell_type": "code",
   "execution_count": null,
   "id": "e77877f9",
   "metadata": {},
   "outputs": [],
   "source": []
  }
 ],
 "metadata": {
  "kernelspec": {
   "display_name": "Python 3 (ipykernel)",
   "language": "python",
   "name": "python3"
  },
  "language_info": {
   "codemirror_mode": {
    "name": "ipython",
    "version": 3
   },
   "file_extension": ".py",
   "mimetype": "text/x-python",
   "name": "python",
   "nbconvert_exporter": "python",
   "pygments_lexer": "ipython3",
   "version": "3.9.7"
  }
 },
 "nbformat": 4,
 "nbformat_minor": 5
}
