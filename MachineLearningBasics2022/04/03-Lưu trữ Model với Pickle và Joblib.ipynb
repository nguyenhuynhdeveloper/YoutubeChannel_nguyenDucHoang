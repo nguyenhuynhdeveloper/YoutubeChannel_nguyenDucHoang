{
 "cells": [
  {
   "cell_type": "code",
   "execution_count": 22,
   "id": "60e6c415",
   "metadata": {},
   "outputs": [],
   "source": [
    "import pandas as pd\n",
    "import numpy as np\n",
    "from sklearn import linear_model\n",
    "import math\n",
    "import pickle #dump or save your model\n",
    "from joblib import dump,load "
   ]
  },
  {
   "cell_type": "code",
   "execution_count": 2,
   "id": "3b4373db",
   "metadata": {},
   "outputs": [
    {
     "data": {
      "text/plain": [
       "Index(['Test score ', 'IQ test score', 'English score', 'Interview score',\n",
       "       'Years of experiences', 'Salary($) per month'],\n",
       "      dtype='object')"
      ]
     },
     "execution_count": 2,
     "metadata": {},
     "output_type": "execute_result"
    }
   ],
   "source": [
    "data_frame = pd.read_csv('HiringProcessNaN.csv')\n",
    "data_frame\n",
    "data_frame.columns"
   ]
  },
  {
   "cell_type": "code",
   "execution_count": 3,
   "id": "5e0bc215",
   "metadata": {},
   "outputs": [
    {
     "name": "stdout",
     "output_type": "stream",
     "text": [
      "Test score  :  True\n",
      "English score :  True\n",
      "Years of experiences :  True\n"
     ]
    }
   ],
   "source": [
    "for key, value in (data_frame.isna().any()).items():\n",
    "    if value == True:\n",
    "        print(key,': ',value)"
   ]
  },
  {
   "cell_type": "code",
   "execution_count": 4,
   "id": "56a2f64e",
   "metadata": {
    "scrolled": true
   },
   "outputs": [
    {
     "data": {
      "text/html": [
       "<div>\n",
       "<style scoped>\n",
       "    .dataframe tbody tr th:only-of-type {\n",
       "        vertical-align: middle;\n",
       "    }\n",
       "\n",
       "    .dataframe tbody tr th {\n",
       "        vertical-align: top;\n",
       "    }\n",
       "\n",
       "    .dataframe thead th {\n",
       "        text-align: right;\n",
       "    }\n",
       "</style>\n",
       "<table border=\"1\" class=\"dataframe\">\n",
       "  <thead>\n",
       "    <tr style=\"text-align: right;\">\n",
       "      <th></th>\n",
       "      <th>Test score</th>\n",
       "      <th>IQ test score</th>\n",
       "      <th>English score</th>\n",
       "      <th>Interview score</th>\n",
       "      <th>Years of experiences</th>\n",
       "      <th>Salary($) per month</th>\n",
       "    </tr>\n",
       "  </thead>\n",
       "  <tbody>\n",
       "    <tr>\n",
       "      <th>0</th>\n",
       "      <td>3.0</td>\n",
       "      <td>9</td>\n",
       "      <td>8.0</td>\n",
       "      <td>7</td>\n",
       "      <td>1.0</td>\n",
       "      <td>2300</td>\n",
       "    </tr>\n",
       "    <tr>\n",
       "      <th>1</th>\n",
       "      <td>4.0</td>\n",
       "      <td>8</td>\n",
       "      <td>10.0</td>\n",
       "      <td>10</td>\n",
       "      <td>3.0</td>\n",
       "      <td>5000</td>\n",
       "    </tr>\n",
       "    <tr>\n",
       "      <th>2</th>\n",
       "      <td>5.0</td>\n",
       "      <td>5</td>\n",
       "      <td>5.0</td>\n",
       "      <td>6</td>\n",
       "      <td>2.0</td>\n",
       "      <td>2400</td>\n",
       "    </tr>\n",
       "    <tr>\n",
       "      <th>3</th>\n",
       "      <td>6.0</td>\n",
       "      <td>6</td>\n",
       "      <td>7.0</td>\n",
       "      <td>8</td>\n",
       "      <td>2.0</td>\n",
       "      <td>2500</td>\n",
       "    </tr>\n",
       "    <tr>\n",
       "      <th>4</th>\n",
       "      <td>10.0</td>\n",
       "      <td>10</td>\n",
       "      <td>10.0</td>\n",
       "      <td>10</td>\n",
       "      <td>2.0</td>\n",
       "      <td>7000</td>\n",
       "    </tr>\n",
       "    <tr>\n",
       "      <th>5</th>\n",
       "      <td>8.0</td>\n",
       "      <td>9</td>\n",
       "      <td>10.0</td>\n",
       "      <td>9</td>\n",
       "      <td>NaN</td>\n",
       "      <td>6500</td>\n",
       "    </tr>\n",
       "    <tr>\n",
       "      <th>6</th>\n",
       "      <td>NaN</td>\n",
       "      <td>7</td>\n",
       "      <td>9.0</td>\n",
       "      <td>8</td>\n",
       "      <td>2.0</td>\n",
       "      <td>6200</td>\n",
       "    </tr>\n",
       "    <tr>\n",
       "      <th>7</th>\n",
       "      <td>4.0</td>\n",
       "      <td>4</td>\n",
       "      <td>5.0</td>\n",
       "      <td>7</td>\n",
       "      <td>2.0</td>\n",
       "      <td>2100</td>\n",
       "    </tr>\n",
       "    <tr>\n",
       "      <th>8</th>\n",
       "      <td>6.0</td>\n",
       "      <td>7</td>\n",
       "      <td>NaN</td>\n",
       "      <td>6</td>\n",
       "      <td>3.0</td>\n",
       "      <td>4000</td>\n",
       "    </tr>\n",
       "    <tr>\n",
       "      <th>9</th>\n",
       "      <td>7.0</td>\n",
       "      <td>6</td>\n",
       "      <td>6.0</td>\n",
       "      <td>5</td>\n",
       "      <td>2.0</td>\n",
       "      <td>2700</td>\n",
       "    </tr>\n",
       "    <tr>\n",
       "      <th>10</th>\n",
       "      <td>4.0</td>\n",
       "      <td>7</td>\n",
       "      <td>5.0</td>\n",
       "      <td>6</td>\n",
       "      <td>1.0</td>\n",
       "      <td>2400</td>\n",
       "    </tr>\n",
       "    <tr>\n",
       "      <th>11</th>\n",
       "      <td>5.0</td>\n",
       "      <td>7</td>\n",
       "      <td>6.0</td>\n",
       "      <td>7</td>\n",
       "      <td>2.0</td>\n",
       "      <td>2500</td>\n",
       "    </tr>\n",
       "    <tr>\n",
       "      <th>12</th>\n",
       "      <td>8.0</td>\n",
       "      <td>7</td>\n",
       "      <td>8.0</td>\n",
       "      <td>7</td>\n",
       "      <td>2.0</td>\n",
       "      <td>5600</td>\n",
       "    </tr>\n",
       "    <tr>\n",
       "      <th>13</th>\n",
       "      <td>7.0</td>\n",
       "      <td>7</td>\n",
       "      <td>7.0</td>\n",
       "      <td>7</td>\n",
       "      <td>1.0</td>\n",
       "      <td>5400</td>\n",
       "    </tr>\n",
       "    <tr>\n",
       "      <th>14</th>\n",
       "      <td>9.0</td>\n",
       "      <td>9</td>\n",
       "      <td>4.0</td>\n",
       "      <td>4</td>\n",
       "      <td>2.0</td>\n",
       "      <td>5000</td>\n",
       "    </tr>\n",
       "  </tbody>\n",
       "</table>\n",
       "</div>"
      ],
      "text/plain": [
       "    Test score   IQ test score  English score  Interview score  \\\n",
       "0           3.0              9            8.0                7   \n",
       "1           4.0              8           10.0               10   \n",
       "2           5.0              5            5.0                6   \n",
       "3           6.0              6            7.0                8   \n",
       "4          10.0             10           10.0               10   \n",
       "5           8.0              9           10.0                9   \n",
       "6           NaN              7            9.0                8   \n",
       "7           4.0              4            5.0                7   \n",
       "8           6.0              7            NaN                6   \n",
       "9           7.0              6            6.0                5   \n",
       "10          4.0              7            5.0                6   \n",
       "11          5.0              7            6.0                7   \n",
       "12          8.0              7            8.0                7   \n",
       "13          7.0              7            7.0                7   \n",
       "14          9.0              9            4.0                4   \n",
       "\n",
       "    Years of experiences  Salary($) per month  \n",
       "0                    1.0                 2300  \n",
       "1                    3.0                 5000  \n",
       "2                    2.0                 2400  \n",
       "3                    2.0                 2500  \n",
       "4                    2.0                 7000  \n",
       "5                    NaN                 6500  \n",
       "6                    2.0                 6200  \n",
       "7                    2.0                 2100  \n",
       "8                    3.0                 4000  \n",
       "9                    2.0                 2700  \n",
       "10                   1.0                 2400  \n",
       "11                   2.0                 2500  \n",
       "12                   2.0                 5600  \n",
       "13                   1.0                 5400  \n",
       "14                   2.0                 5000  "
      ]
     },
     "execution_count": 4,
     "metadata": {},
     "output_type": "execute_result"
    }
   ],
   "source": [
    "data_frame"
   ]
  },
  {
   "cell_type": "code",
   "execution_count": 5,
   "id": "eb20b3a8",
   "metadata": {},
   "outputs": [
    {
     "data": {
      "text/plain": [
       "(6.0, 7.0, 2.0)"
      ]
     },
     "execution_count": 5,
     "metadata": {},
     "output_type": "execute_result"
    }
   ],
   "source": [
    "import math\n",
    "test_score_median = data_frame['Test score '].median()\n",
    "english_score_median = data_frame['English score'].median()\n",
    "years_of_experiences_median = data_frame['Years of experiences'].median()\n",
    "test_score_median,english_score_median, years_of_experiences_median\n",
    "#median != medium"
   ]
  },
  {
   "cell_type": "code",
   "execution_count": 6,
   "id": "9ee47339",
   "metadata": {},
   "outputs": [],
   "source": [
    "data_frame['Test score '] = data_frame['Test score '].fillna(test_score_median)\n",
    "data_frame['English score'] = data_frame['English score'].fillna(english_score_median)\n",
    "data_frame['Years of experiences'] = data_frame['Years of experiences'].fillna(years_of_experiences_median)"
   ]
  },
  {
   "cell_type": "code",
   "execution_count": 7,
   "id": "94e43003",
   "metadata": {
    "scrolled": true
   },
   "outputs": [
    {
     "data": {
      "text/html": [
       "<div>\n",
       "<style scoped>\n",
       "    .dataframe tbody tr th:only-of-type {\n",
       "        vertical-align: middle;\n",
       "    }\n",
       "\n",
       "    .dataframe tbody tr th {\n",
       "        vertical-align: top;\n",
       "    }\n",
       "\n",
       "    .dataframe thead th {\n",
       "        text-align: right;\n",
       "    }\n",
       "</style>\n",
       "<table border=\"1\" class=\"dataframe\">\n",
       "  <thead>\n",
       "    <tr style=\"text-align: right;\">\n",
       "      <th></th>\n",
       "      <th>Test score</th>\n",
       "      <th>IQ test score</th>\n",
       "      <th>English score</th>\n",
       "      <th>Interview score</th>\n",
       "      <th>Years of experiences</th>\n",
       "      <th>Salary($) per month</th>\n",
       "    </tr>\n",
       "  </thead>\n",
       "  <tbody>\n",
       "    <tr>\n",
       "      <th>0</th>\n",
       "      <td>3.0</td>\n",
       "      <td>9</td>\n",
       "      <td>8.0</td>\n",
       "      <td>7</td>\n",
       "      <td>1.0</td>\n",
       "      <td>2300</td>\n",
       "    </tr>\n",
       "    <tr>\n",
       "      <th>1</th>\n",
       "      <td>4.0</td>\n",
       "      <td>8</td>\n",
       "      <td>10.0</td>\n",
       "      <td>10</td>\n",
       "      <td>3.0</td>\n",
       "      <td>5000</td>\n",
       "    </tr>\n",
       "    <tr>\n",
       "      <th>2</th>\n",
       "      <td>5.0</td>\n",
       "      <td>5</td>\n",
       "      <td>5.0</td>\n",
       "      <td>6</td>\n",
       "      <td>2.0</td>\n",
       "      <td>2400</td>\n",
       "    </tr>\n",
       "    <tr>\n",
       "      <th>3</th>\n",
       "      <td>6.0</td>\n",
       "      <td>6</td>\n",
       "      <td>7.0</td>\n",
       "      <td>8</td>\n",
       "      <td>2.0</td>\n",
       "      <td>2500</td>\n",
       "    </tr>\n",
       "    <tr>\n",
       "      <th>4</th>\n",
       "      <td>10.0</td>\n",
       "      <td>10</td>\n",
       "      <td>10.0</td>\n",
       "      <td>10</td>\n",
       "      <td>2.0</td>\n",
       "      <td>7000</td>\n",
       "    </tr>\n",
       "    <tr>\n",
       "      <th>5</th>\n",
       "      <td>8.0</td>\n",
       "      <td>9</td>\n",
       "      <td>10.0</td>\n",
       "      <td>9</td>\n",
       "      <td>2.0</td>\n",
       "      <td>6500</td>\n",
       "    </tr>\n",
       "    <tr>\n",
       "      <th>6</th>\n",
       "      <td>6.0</td>\n",
       "      <td>7</td>\n",
       "      <td>9.0</td>\n",
       "      <td>8</td>\n",
       "      <td>2.0</td>\n",
       "      <td>6200</td>\n",
       "    </tr>\n",
       "    <tr>\n",
       "      <th>7</th>\n",
       "      <td>4.0</td>\n",
       "      <td>4</td>\n",
       "      <td>5.0</td>\n",
       "      <td>7</td>\n",
       "      <td>2.0</td>\n",
       "      <td>2100</td>\n",
       "    </tr>\n",
       "    <tr>\n",
       "      <th>8</th>\n",
       "      <td>6.0</td>\n",
       "      <td>7</td>\n",
       "      <td>7.0</td>\n",
       "      <td>6</td>\n",
       "      <td>3.0</td>\n",
       "      <td>4000</td>\n",
       "    </tr>\n",
       "    <tr>\n",
       "      <th>9</th>\n",
       "      <td>7.0</td>\n",
       "      <td>6</td>\n",
       "      <td>6.0</td>\n",
       "      <td>5</td>\n",
       "      <td>2.0</td>\n",
       "      <td>2700</td>\n",
       "    </tr>\n",
       "    <tr>\n",
       "      <th>10</th>\n",
       "      <td>4.0</td>\n",
       "      <td>7</td>\n",
       "      <td>5.0</td>\n",
       "      <td>6</td>\n",
       "      <td>1.0</td>\n",
       "      <td>2400</td>\n",
       "    </tr>\n",
       "    <tr>\n",
       "      <th>11</th>\n",
       "      <td>5.0</td>\n",
       "      <td>7</td>\n",
       "      <td>6.0</td>\n",
       "      <td>7</td>\n",
       "      <td>2.0</td>\n",
       "      <td>2500</td>\n",
       "    </tr>\n",
       "    <tr>\n",
       "      <th>12</th>\n",
       "      <td>8.0</td>\n",
       "      <td>7</td>\n",
       "      <td>8.0</td>\n",
       "      <td>7</td>\n",
       "      <td>2.0</td>\n",
       "      <td>5600</td>\n",
       "    </tr>\n",
       "    <tr>\n",
       "      <th>13</th>\n",
       "      <td>7.0</td>\n",
       "      <td>7</td>\n",
       "      <td>7.0</td>\n",
       "      <td>7</td>\n",
       "      <td>1.0</td>\n",
       "      <td>5400</td>\n",
       "    </tr>\n",
       "    <tr>\n",
       "      <th>14</th>\n",
       "      <td>9.0</td>\n",
       "      <td>9</td>\n",
       "      <td>4.0</td>\n",
       "      <td>4</td>\n",
       "      <td>2.0</td>\n",
       "      <td>5000</td>\n",
       "    </tr>\n",
       "  </tbody>\n",
       "</table>\n",
       "</div>"
      ],
      "text/plain": [
       "    Test score   IQ test score  English score  Interview score  \\\n",
       "0           3.0              9            8.0                7   \n",
       "1           4.0              8           10.0               10   \n",
       "2           5.0              5            5.0                6   \n",
       "3           6.0              6            7.0                8   \n",
       "4          10.0             10           10.0               10   \n",
       "5           8.0              9           10.0                9   \n",
       "6           6.0              7            9.0                8   \n",
       "7           4.0              4            5.0                7   \n",
       "8           6.0              7            7.0                6   \n",
       "9           7.0              6            6.0                5   \n",
       "10          4.0              7            5.0                6   \n",
       "11          5.0              7            6.0                7   \n",
       "12          8.0              7            8.0                7   \n",
       "13          7.0              7            7.0                7   \n",
       "14          9.0              9            4.0                4   \n",
       "\n",
       "    Years of experiences  Salary($) per month  \n",
       "0                    1.0                 2300  \n",
       "1                    3.0                 5000  \n",
       "2                    2.0                 2400  \n",
       "3                    2.0                 2500  \n",
       "4                    2.0                 7000  \n",
       "5                    2.0                 6500  \n",
       "6                    2.0                 6200  \n",
       "7                    2.0                 2100  \n",
       "8                    3.0                 4000  \n",
       "9                    2.0                 2700  \n",
       "10                   1.0                 2400  \n",
       "11                   2.0                 2500  \n",
       "12                   2.0                 5600  \n",
       "13                   1.0                 5400  \n",
       "14                   2.0                 5000  "
      ]
     },
     "execution_count": 7,
     "metadata": {},
     "output_type": "execute_result"
    }
   ],
   "source": [
    "data_frame"
   ]
  },
  {
   "cell_type": "code",
   "execution_count": 8,
   "id": "0834b08d",
   "metadata": {},
   "outputs": [
    {
     "data": {
      "text/plain": [
       "LinearRegression()"
      ]
     },
     "execution_count": 8,
     "metadata": {},
     "output_type": "execute_result"
    }
   ],
   "source": [
    "linear_regression = linear_model.LinearRegression()\n",
    "#train the model\n",
    "linear_regression.fit(\n",
    "    #features = input = independent values\n",
    "    data_frame[['Test score ', 'IQ test score', 'English score', 'Interview score',\n",
    "       'Years of experiences']], \n",
    "    #label = output = dependent values\n",
    "    data_frame['Salary($) per month']\n",
    ")"
   ]
  },
  {
   "cell_type": "code",
   "execution_count": 9,
   "id": "6cb51434",
   "metadata": {},
   "outputs": [
    {
     "data": {
      "text/plain": [
       "(array([497.72837149,  92.42236953, 481.39962075, -36.24526436,\n",
       "         28.89880385]),\n",
       " -2842.8138354546836)"
      ]
     },
     "execution_count": 9,
     "metadata": {},
     "output_type": "execute_result"
    }
   ],
   "source": [
    "#where is matplotlib ? NO!\n",
    "w = linear_regression.coef_\n",
    "b = linear_regression.intercept_\n",
    "w, b"
   ]
  },
  {
   "cell_type": "code",
   "execution_count": 15,
   "id": "51a9273b",
   "metadata": {},
   "outputs": [],
   "source": [
    "#create a new file and save\n",
    "#wb = write binary\n",
    "#save model to file\n",
    "file_name = 'HiringProcessModel'\n",
    "with open(file_name, 'wb') as file:\n",
    "    pickle.dump(linear_regression, file)"
   ]
  },
  {
   "cell_type": "code",
   "execution_count": 17,
   "id": "6737d105",
   "metadata": {},
   "outputs": [],
   "source": [
    "#load model from file\n",
    "#rb = read binary\n",
    "with open(file_name, 'rb') as file:\n",
    "    linear_regression2 = pickle.load(file)"
   ]
  },
  {
   "cell_type": "code",
   "execution_count": 10,
   "id": "f6714b6a",
   "metadata": {
    "scrolled": true
   },
   "outputs": [
    {
     "name": "stderr",
     "output_type": "stream",
     "text": [
      "C:\\Users\\sunli\\.conda\\envs\\machineLearningTutorial\\lib\\site-packages\\sklearn\\base.py:450: UserWarning: X does not have valid feature names, but LinearRegression was fitted with feature names\n",
      "  warnings.warn(\n"
     ]
    },
    {
     "data": {
      "text/plain": [
       "array([3309.0962734])"
      ]
     },
     "execution_count": 10,
     "metadata": {},
     "output_type": "execute_result"
    }
   ],
   "source": [
    "linear_regression.predict([[5, 6, 7, 8, 1]])"
   ]
  },
  {
   "cell_type": "code",
   "execution_count": 18,
   "id": "ba091200",
   "metadata": {},
   "outputs": [
    {
     "name": "stderr",
     "output_type": "stream",
     "text": [
      "C:\\Users\\sunli\\.conda\\envs\\machineLearningTutorial\\lib\\site-packages\\sklearn\\base.py:450: UserWarning: X does not have valid feature names, but LinearRegression was fitted with feature names\n",
      "  warnings.warn(\n"
     ]
    },
    {
     "data": {
      "text/plain": [
       "array([3309.0962734])"
      ]
     },
     "execution_count": 18,
     "metadata": {},
     "output_type": "execute_result"
    }
   ],
   "source": [
    "linear_regression2.predict([[5, 6, 7, 8, 1]])"
   ]
  },
  {
   "cell_type": "code",
   "execution_count": 11,
   "id": "59ca5786",
   "metadata": {},
   "outputs": [
    {
     "data": {
      "text/plain": [
       "3309.0962729453163"
      ]
     },
     "execution_count": 11,
     "metadata": {},
     "output_type": "execute_result"
    }
   ],
   "source": [
    "b + 497.7283714*5 + 92.42236953*6 + 481.39962075*7 -36.24526436*8 + 28.89880385 * 1"
   ]
  },
  {
   "cell_type": "code",
   "execution_count": 24,
   "id": "8c14453c",
   "metadata": {},
   "outputs": [
    {
     "data": {
      "text/plain": [
       "['HiringProcessModel']"
      ]
     },
     "execution_count": 24,
     "metadata": {},
     "output_type": "execute_result"
    }
   ],
   "source": [
    "dump(linear_regression, file_name)"
   ]
  },
  {
   "cell_type": "code",
   "execution_count": 12,
   "id": "40e0455c",
   "metadata": {},
   "outputs": [
    {
     "data": {
      "text/plain": [
       "3309.0962734015247"
      ]
     },
     "execution_count": 12,
     "metadata": {},
     "output_type": "execute_result"
    }
   ],
   "source": [
    "b + np.dot(w, [5, 6, 7, 8, 1])"
   ]
  },
  {
   "cell_type": "code",
   "execution_count": 25,
   "id": "e1406648",
   "metadata": {},
   "outputs": [
    {
     "name": "stderr",
     "output_type": "stream",
     "text": [
      "C:\\Users\\sunli\\.conda\\envs\\machineLearningTutorial\\lib\\site-packages\\sklearn\\base.py:450: UserWarning: X does not have valid feature names, but LinearRegression was fitted with feature names\n",
      "  warnings.warn(\n"
     ]
    },
    {
     "data": {
      "text/plain": [
       "array([3309.0962734])"
      ]
     },
     "execution_count": 25,
     "metadata": {},
     "output_type": "execute_result"
    }
   ],
   "source": [
    "linear_regression3 = load(file_name)\n",
    "linear_regression3.predict([[5, 6, 7, 8, 1]])"
   ]
  },
  {
   "cell_type": "code",
   "execution_count": 13,
   "id": "9662c2bb",
   "metadata": {},
   "outputs": [],
   "source": [
    "#what is the problem if some values is NaN(Not a Number)"
   ]
  }
 ],
 "metadata": {
  "kernelspec": {
   "display_name": "Python 3 (ipykernel)",
   "language": "python",
   "name": "python3"
  },
  "language_info": {
   "codemirror_mode": {
    "name": "ipython",
    "version": 3
   },
   "file_extension": ".py",
   "mimetype": "text/x-python",
   "name": "python",
   "nbconvert_exporter": "python",
   "pygments_lexer": "ipython3",
   "version": "3.9.7"
  }
 },
 "nbformat": 4,
 "nbformat_minor": 5
}
