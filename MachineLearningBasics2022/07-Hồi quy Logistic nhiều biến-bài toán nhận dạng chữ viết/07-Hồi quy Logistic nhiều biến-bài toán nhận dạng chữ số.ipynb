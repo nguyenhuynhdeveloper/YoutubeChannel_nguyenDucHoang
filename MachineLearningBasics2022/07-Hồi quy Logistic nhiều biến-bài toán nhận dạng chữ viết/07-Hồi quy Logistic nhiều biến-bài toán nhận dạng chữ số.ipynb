{
 "cells": [
  {
   "cell_type": "code",
   "execution_count": 1,
   "id": "60e6c415",
   "metadata": {},
   "outputs": [],
   "source": [
    "import pandas as pd\n",
    "import numpy as np\n",
    "import math\n",
    "from sklearn.linear_model import LogisticRegression\n",
    "import matplotlib.pyplot as plt\n",
    "from matplotlib.pyplot import figure\n",
    "from sklearn.datasets import load_digits\n",
    "from sklearn.model_selection import train_test_split\n",
    "#show different between \"true\" value and \"predicted\" value\n",
    "from sklearn.metrics import confusion_matrix"
   ]
  },
  {
   "cell_type": "markdown",
   "id": "2ad3c06a",
   "metadata": {},
   "source": [
    "### Logistic Regression with multiple variables"
   ]
  },
  {
   "cell_type": "code",
   "execution_count": 2,
   "id": "738b3995",
   "metadata": {},
   "outputs": [
    {
     "data": {
      "text/plain": [
       "['DESCR', 'data', 'feature_names', 'frame', 'images', 'target', 'target_names']"
      ]
     },
     "execution_count": 2,
     "metadata": {},
     "output_type": "execute_result"
    }
   ],
   "source": [
    "digits = load_digits()\n",
    "dir(digits)\n"
   ]
  },
  {
   "cell_type": "code",
   "execution_count": 3,
   "id": "eda822d9",
   "metadata": {},
   "outputs": [
    {
     "data": {
      "text/plain": [
       "array([[ 0.,  0., 10., 14.,  8.,  1.,  0.,  0.],\n",
       "       [ 0.,  2., 16., 14.,  6.,  1.,  0.,  0.],\n",
       "       [ 0.,  0., 15., 15.,  8., 15.,  0.,  0.],\n",
       "       [ 0.,  0.,  5., 16., 16., 10.,  0.,  0.],\n",
       "       [ 0.,  0., 12., 15., 15., 12.,  0.,  0.],\n",
       "       [ 0.,  4., 16.,  6.,  4., 16.,  6.,  0.],\n",
       "       [ 0.,  8., 16., 10.,  8., 16.,  8.,  0.],\n",
       "       [ 0.,  1.,  8., 12., 14., 12.,  1.,  0.]])"
      ]
     },
     "execution_count": 3,
     "metadata": {},
     "output_type": "execute_result"
    }
   ],
   "source": [
    "len(digits['images'])\n",
    "#digits['images'][0] #8 x 8 matrix\n",
    "#digits['images'][0].shape\n",
    "digits['images'][1796] #8 x 8 matrix"
   ]
  },
  {
   "cell_type": "code",
   "execution_count": 4,
   "id": "8791bfd5",
   "metadata": {},
   "outputs": [
    {
     "data": {
      "text/plain": [
       "4"
      ]
     },
     "execution_count": 4,
     "metadata": {},
     "output_type": "execute_result"
    },
    {
     "data": {
      "image/png": "[encoded data removed]",
      "text/plain": [
       "<Figure size 288x288 with 1 Axes>"
      ]
     },
     "metadata": {
      "needs_background": "light"
     },
     "output_type": "display_data"
    }
   ],
   "source": [
    "plt.matshow(digits['images'][100])\n",
    "digits['target'][100]\n",
    "#classification"
   ]
  },
  {
   "cell_type": "code",
   "execution_count": 5,
   "id": "af1ea6f4",
   "metadata": {},
   "outputs": [
    {
     "data": {
      "text/plain": [
       "(array([ 0.,  5., 12., 13., 16., 16.,  2.,  0.,  0., 11., 16., 15.,  8.,\n",
       "         4.,  0.,  0.,  0.,  8., 14., 11.,  1.,  0.,  0.,  0.,  0.,  8.,\n",
       "        16., 16., 14.,  0.,  0.,  0.,  0.,  1.,  6.,  6., 16.,  0.,  0.,\n",
       "         0.,  0.,  0.,  0.,  5., 16.,  3.,  0.,  0.,  0.,  1.,  5., 15.,\n",
       "        13.,  0.,  0.,  0.,  0.,  4., 15., 16.,  2.,  0.,  0.,  0.]),\n",
       " 5)"
      ]
     },
     "execution_count": 5,
     "metadata": {},
     "output_type": "execute_result"
    }
   ],
   "source": [
    "digits['data'][15], digits['target'][15]"
   ]
  },
  {
   "cell_type": "code",
   "execution_count": 6,
   "id": "3a296285",
   "metadata": {},
   "outputs": [
    {
     "data": {
      "text/plain": [
       "(array([[ 0.,  0.,  5., ...,  0.,  0.,  0.],\n",
       "        [ 0.,  0.,  0., ..., 10.,  0.,  0.],\n",
       "        [ 0.,  0.,  0., ..., 16.,  9.,  0.],\n",
       "        ...,\n",
       "        [ 0.,  0.,  1., ...,  6.,  0.,  0.],\n",
       "        [ 0.,  0.,  2., ..., 12.,  0.,  0.],\n",
       "        [ 0.,  0., 10., ..., 12.,  1.,  0.]]),\n",
       " array([0, 1, 2, ..., 8, 9, 8]))"
      ]
     },
     "execution_count": 6,
     "metadata": {},
     "output_type": "execute_result"
    }
   ],
   "source": [
    "X = digits['data']\n",
    "y = digits['target']\n",
    "X, y"
   ]
  },
  {
   "cell_type": "code",
   "execution_count": 7,
   "id": "678de2ab",
   "metadata": {},
   "outputs": [],
   "source": [
    "X_train, X_test, y_train, y_test = train_test_split(X, y, test_size=0.2)"
   ]
  },
  {
   "cell_type": "code",
   "execution_count": 8,
   "id": "62c221ca",
   "metadata": {},
   "outputs": [
    {
     "data": {
      "text/plain": [
       "0.7996661101836394"
      ]
     },
     "execution_count": 8,
     "metadata": {},
     "output_type": "execute_result"
    }
   ],
   "source": [
    "len(X_train) / len(X)"
   ]
  },
  {
   "cell_type": "code",
   "execution_count": 9,
   "id": "8af120c3",
   "metadata": {},
   "outputs": [
    {
     "data": {
      "text/plain": [
       "LogisticRegression(max_iter=10000)"
      ]
     },
     "execution_count": 9,
     "metadata": {},
     "output_type": "execute_result"
    }
   ],
   "source": [
    "model = LogisticRegression(max_iter=10000)\n",
    "#train the model with \"training set\"\n",
    "model.fit(X_train, y_train)"
   ]
  },
  {
   "cell_type": "code",
   "execution_count": 10,
   "id": "d0efd658",
   "metadata": {},
   "outputs": [
    {
     "data": {
      "text/plain": [
       "0.9722222222222222"
      ]
     },
     "execution_count": 10,
     "metadata": {},
     "output_type": "execute_result"
    }
   ],
   "source": [
    "model.score(X_test, y_test)"
   ]
  },
  {
   "cell_type": "code",
   "execution_count": 11,
   "id": "92caa93e",
   "metadata": {},
   "outputs": [
    {
     "data": {
      "text/plain": [
       "(array([ 0.,  0.,  9., 13., 14., 15., 13.,  0.,  0.,  0., 16., 13., 12.,\n",
       "        12.,  5.,  0.,  0.,  4., 16.,  0.,  0.,  0.,  0.,  0.,  0.,  8.,\n",
       "        16., 16., 11.,  1.,  0.,  0.,  0.,  1.,  7.,  8., 16., 12.,  0.,\n",
       "         0.,  0.,  0.,  0.,  0.,  9., 13.,  0.,  0.,  0.,  0., 12.,  8.,\n",
       "        12., 10.,  0.,  0.,  0.,  0., 10., 16., 13.,  3.,  0.,  0.]),\n",
       " 5)"
      ]
     },
     "execution_count": 11,
     "metadata": {},
     "output_type": "execute_result"
    }
   ],
   "source": [
    "#len(X_test)/ len(X)\n",
    "X_test[2], y_test[2]"
   ]
  },
  {
   "cell_type": "code",
   "execution_count": 12,
   "id": "06ed5e61",
   "metadata": {},
   "outputs": [
    {
     "data": {
      "text/plain": [
       "array([[2.34951438e-14, 2.20958407e-16, 7.49728370e-18, 1.61387361e-08,\n",
       "        1.75007780e-19, 9.99999984e-01, 2.57031883e-14, 7.76306234e-15,\n",
       "        8.69053627e-13, 4.86762096e-12]])"
      ]
     },
     "execution_count": 12,
     "metadata": {},
     "output_type": "execute_result"
    }
   ],
   "source": [
    "model.predict([X_test[2]])\n",
    "#predict probability\n",
    "model.predict_proba([X_test[2]])\n",
    "#6.52115925e-03+9.87066911e-01+7.25289720e-08+9.81591067e-11+3.97795680e-07+2.72477398e-07+4.50805061e-09+1.56529935e-06+6.67829299e-06+6.40293916e-03"
   ]
  },
  {
   "cell_type": "code",
   "execution_count": 13,
   "id": "9f923e3c",
   "metadata": {},
   "outputs": [
    {
     "data": {
      "text/plain": [
       "array([[40,  0,  0,  0,  0,  0,  0,  0,  0,  0],\n",
       "       [ 0, 35,  0,  0,  0,  0,  0,  0,  1,  0],\n",
       "       [ 0,  1, 37,  0,  0,  0,  0,  0,  0,  0],\n",
       "       [ 0,  0,  1, 42,  0,  0,  0,  0,  1,  0],\n",
       "       [ 0,  0,  0,  0, 33,  0,  0,  0,  0,  0],\n",
       "       [ 0,  0,  0,  0,  0, 26,  0,  0,  0,  3],\n",
       "       [ 0,  0,  0,  0,  0,  0, 36,  0,  0,  0],\n",
       "       [ 0,  0,  0,  0,  0,  0,  0, 34,  0,  0],\n",
       "       [ 0,  0,  0,  0,  1,  1,  0,  0, 36,  0],\n",
       "       [ 0,  0,  0,  0,  0,  1,  0,  0,  0, 31]], dtype=int64)"
      ]
     },
     "execution_count": 13,
     "metadata": {},
     "output_type": "execute_result"
    }
   ],
   "source": [
    "confusion_matrix(y_test, model.predict(X_test))"
   ]
  },
  {
   "cell_type": "code",
   "execution_count": 14,
   "id": "dbd5a810",
   "metadata": {},
   "outputs": [
    {
     "data": {
      "text/plain": [
       "Text(137.77777777777777, 0.5, 'True values')"
      ]
     },
     "execution_count": 14,
     "metadata": {},
     "output_type": "execute_result"
    },
    {
     "data": {
      "image/png": "[encoded data removed]",
      "text/plain": [
       "<Figure size 1280x720 with 2 Axes>"
      ]
     },
     "metadata": {
      "needs_background": "light"
     },
     "output_type": "display_data"
    }
   ],
   "source": [
    "import seaborn\n",
    "plt.figure(figsize = (16,9), dpi=80)\n",
    "seaborn.heatmap(confusion_matrix(y_test, model.predict(X_test)), annot=True)\n",
    "plt.xlabel(\"Predicted\")\n",
    "plt.ylabel(\"True values\")"
   ]
  },
  {
   "cell_type": "code",
   "execution_count": null,
   "id": "da7ba31b",
   "metadata": {},
   "outputs": [],
   "source": []
  }
 ],
 "metadata": {
  "kernelspec": {
   "display_name": "Python 3 (ipykernel)",
   "language": "python",
   "name": "python3"
  },
  "language_info": {
   "codemirror_mode": {
    "name": "ipython",
    "version": 3
   },
   "file_extension": ".py",
   "mimetype": "text/x-python",
   "name": "python",
   "nbconvert_exporter": "python",
   "pygments_lexer": "ipython3",
   "version": "3.9.7"
  }
 },
 "nbformat": 4,
 "nbformat_minor": 5
}
